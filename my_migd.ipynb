{
 "cells": [
  {
   "cell_type": "markdown",
   "id": "d5c8b605",
   "metadata": {},
   "source": [
    "# Imports"
   ]
  },
  {
   "cell_type": "code",
   "execution_count": 1,
   "id": "a20f78b8",
   "metadata": {
    "scrolled": true
   },
   "outputs": [
    {
     "name": "stdout",
     "output_type": "stream",
     "text": [
      "0.14638429509247372\n"
     ]
    }
   ],
   "source": [
    "import numpy as np\n",
    "import pandas as pd\n",
    "from pymoo.problems.dynamic.df import DF1,DF2,DF3,DF4,DF5,DF6,DF7,DF8,DF9,DF10,DF11,DF12,DF13,DF14\n",
    "from pymoo.indicators.igd import IGD\n",
    "\n",
    "#my_dataset/reference_PF/reference_PF.npy\n",
    "reference_PF = np.load('my_dataset/reference_PF/reference_PF.npy', allow_pickle=True)\n",
    "#my_dataset/PS/ps_DF_10.csv\n",
    "pos_df10 = pd.read_csv('my_dataset/POS/pos_DF_10.csv')\n",
    "\n",
    "RNN_POS_DF1 = np.load('my_dataset/reference_PF/reference_PF.npy', allow_pickle=True)\n",
    "\n",
    "\n",
    "#my_tau = np.load('my_dataset/my_tau/my_tau.npy', allow_pickle=True)\n",
    "\n",
    "def my_igd(problem, pos, reference_PF, isDNSGA2=False):\n",
    "    \"\"\"\n",
    "    This function calculates the mean IGD value of a set of POS solutions.\n",
    "    \n",
    "    Parameters:\n",
    "    - problem : the problem object ex: DF1, DF2, DF3 ..etc\n",
    "    - pos (pd.DataFrame): the solutions obtained from our Model\n",
    "    - reference_PF (np.array): the reference set of POF solutions\n",
    "    - isDNSGA2 (boolean): if you are using DNSGA2 outputs (POSs) or not\n",
    "    \n",
    "    Returns:\n",
    "    float: the mean IGD value of the solutions\n",
    "    \n",
    "    \"\"\"\n",
    "    \n",
    "    #problem = DF10()\n",
    "    # new_df10.shape --> (500 500 10)\n",
    "    data = pos.copy()\n",
    "    if(isDNSGA2==True):\n",
    "        \n",
    "        new_df10 = []\n",
    "        for i in range(0, data.shape[0],500):\n",
    "            new_df10.append(data[i:i+500])\n",
    "        new_df10 = np.array(new_df10)\n",
    "        data = new_df10.copy()\n",
    "    \n",
    "    pof_every_generation = []\n",
    "    #print(data.shape)\n",
    "    for i in range(data.shape[0]):\n",
    "        out = {}\n",
    "        #print(np.isinf(data[i]).sum())\n",
    "        problem._evaluate(x=np.abs(data[i]), out=out)\n",
    "        \n",
    "        #print(out[\"F\"])\n",
    "        # found that out[\"F\"] have many nan values\n",
    "        # replaced them with 0\n",
    "        #out[\"F\"] = np.nan_to_num(out[\"F\"], 0)\n",
    "        pof_every_generation.append( out[\"F\"] )\n",
    "        #print(np.isnan(out[\"F\"]).sum())\n",
    "        \n",
    "    pof_every_generation = np.array(pof_every_generation)    \n",
    "    #print(pof_every_generation.shape)\n",
    "\n",
    "\n",
    "    hist_F = pof_every_generation.copy()\n",
    "    # reference_PF 9 is of the DF10\n",
    "    metric = IGD(reference_PF, zero_to_one=True)\n",
    "    \n",
    "    \n",
    "    ###########\n",
    "    ## tau ####\n",
    "    ###########\n",
    "    # kind of my_tau (same results better complexity + understandability)\n",
    "    taut = 10\n",
    "    nbr_generations = 500\n",
    "    # generates a np.array of values from 9 to 500 with step size of 10\n",
    "    # the following is the same as np.arange(9,500,10)\n",
    "    # taut-1 because this way we are in the generation \n",
    "    # where we are exactly before the change occurs\n",
    "    exactly_before_change_occurs = np.arange(taut-1,nbr_generations,taut)\n",
    "    igd_values = []\n",
    "    for i in range(len(hist_F)):# _F in hist_F:\n",
    "        if i in exactly_before_change_occurs:\n",
    "            #print(hist_F[i])\n",
    "            current_igd = metric._do(hist_F[i])\n",
    "            #print(current_igd)\n",
    "            igd_values.append( current_igd )\n",
    "\n",
    "    #print(igd_values)\n",
    "    igd_values = np.array(igd_values)\n",
    "    return np.mean(igd_values)\n",
    "\n",
    "# CAll my_igd funct mean igd of DNSGA2 POS at df10 \n",
    "mean_igd = my_igd(problem=DF10(), pos=pos_df10 , reference_PF=reference_PF[9], isDNSGA2=True)\n",
    "\n",
    "print(mean_igd)"
   ]
  },
  {
   "cell_type": "code",
   "execution_count": 2,
   "id": "131d3c4d",
   "metadata": {
    "scrolled": true
   },
   "outputs": [
    {
     "name": "stdout",
     "output_type": "stream",
     "text": [
      "0.14638429509247372\n"
     ]
    }
   ],
   "source": [
    "# Call my_igd funct mean igd of DNSGA2 POS at df10 \n",
    "mean_igd = my_igd(problem=DF10(), pos=pos_df10 , reference_PF=reference_PF[9], isDNSGA2=True)\n",
    "print(mean_igd)"
   ]
  },
  {
   "cell_type": "markdown",
   "id": "22bd11a6",
   "metadata": {},
   "source": [
    "# Our Models MIGDs."
   ]
  },
  {
   "cell_type": "code",
   "execution_count": 8,
   "id": "5c90a044",
   "metadata": {
    "scrolled": true
   },
   "outputs": [
    {
     "name": "stdout",
     "output_type": "stream",
     "text": [
      "(100, 500, 10)\n",
      "(100, 500, 10)\n",
      "(100, 500, 10)\n",
      "(100, 500, 10)\n",
      "(100, 500, 10)\n",
      "(100, 500, 10)\n",
      "(100, 500, 10)\n",
      "(100, 500, 10)\n",
      "(100, 500, 10)\n",
      "(100, 500, 10)\n",
      "(100, 500, 10)\n",
      "(100, 500, 10)\n",
      "(100, 500, 10)\n",
      "(100, 500, 10)\n",
      "Wall time: 2.19 s\n"
     ]
    },
    {
     "data": {
      "text/plain": [
       "array([0.47936336, 0.24187984, 0.3147753 , 1.90138274, 0.44701426,\n",
       "       5.07423805, 7.46813241, 0.08094575, 6.39947873, 1.22243185,\n",
       "       0.42291579, 0.57970203, 0.75788541, 0.69556553])"
      ]
     },
     "execution_count": 8,
     "metadata": {},
     "output_type": "execute_result"
    }
   ],
   "source": [
    "%%time\n",
    "DFs = [DF1,DF2,DF3,DF4,DF5,DF6,DF7,DF8,DF9,DF10,DF11,DF12,DF13,DF14]\n",
    "mean_igd = []\n",
    "for i in range(len(DFs)):\n",
    "    RNN_POS_DFi = np.load('my_dataset/model_POSs/RNN/RNN_POS_reshaped_DF'+ str(i+1) +'.npy', allow_pickle=True)\n",
    "    #print(RNN_POS_DFi.shape)\n",
    "    #print(i)#,reference_PF[i].shape)\n",
    "    mean_igd.append( my_igd( problem=DFs[i](tau=400), pos=RNN_POS_DFi , reference_PF=reference_PF[i]) )\n",
    "mean_igd = np.array(mean_igd)\n",
    "mean_igd"
   ]
  },
  {
   "cell_type": "markdown",
   "id": "e73d8a09",
   "metadata": {},
   "source": [
    "# DNSGA2 MIGDs."
   ]
  },
  {
   "cell_type": "code",
   "execution_count": 14,
   "id": "3ca02043",
   "metadata": {},
   "outputs": [
    {
     "name": "stdout",
     "output_type": "stream",
     "text": [
      "Wall time: 20.5 s\n"
     ]
    },
    {
     "data": {
      "text/plain": [
       "array([ 1.11562079,  0.77658034,  0.25667252,  1.8918338 ,  0.59546827,\n",
       "       26.49674134,  5.02714047,  0.23063019,  3.03522292,  0.85440813,\n",
       "        0.47129179,  0.47641749,  0.98232324,  0.81764316])"
      ]
     },
     "execution_count": 14,
     "metadata": {},
     "output_type": "execute_result"
    }
   ],
   "source": [
    "%%time\n",
    "DFs = [DF1,DF2,DF3,DF4,DF5,DF6,DF7,DF8,DF9,DF10,DF11,DF12,DF13,DF14]\n",
    "mean_igd = []\n",
    "for i in range(len(DFs)):\n",
    "    pos_dfi = pd.read_csv('my_dataset/POS/pos_DF_'+str(i+1)+'.csv')\n",
    "    pos_dfi = pos_dfi.to_numpy()\n",
    "    pos_dfi = np.reshape(pos_dfi , (500, 500, 10))\n",
    "    #print(pos_dfi.shape)\n",
    "    mean_igd.append( my_igd( problem=DFs[i](tau=400), pos=pos_dfi , reference_PF=reference_PF[i]))\n",
    "mean_igd = np.array(mean_igd)\n",
    "mean_igd"
   ]
  },
  {
   "cell_type": "code",
   "execution_count": null,
   "id": "2d888570",
   "metadata": {},
   "outputs": [],
   "source": []
  }
 ],
 "metadata": {
  "kernelspec": {
   "display_name": "Python 3 (ipykernel)",
   "language": "python",
   "name": "python3"
  },
  "language_info": {
   "codemirror_mode": {
    "name": "ipython",
    "version": 3
   },
   "file_extension": ".py",
   "mimetype": "text/x-python",
   "name": "python",
   "nbconvert_exporter": "python",
   "pygments_lexer": "ipython3",
   "version": "3.9.13"
  }
 },
 "nbformat": 4,
 "nbformat_minor": 5
}
